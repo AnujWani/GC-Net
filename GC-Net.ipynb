{
  "nbformat": 4,
  "nbformat_minor": 0,
  "metadata": {
    "colab": {
      "name": "Custom_Arch(97,_1).ipynb",
      "provenance": [],
      "collapsed_sections": []
    },
    "language_info": {
      "codemirror_mode": {
        "name": "ipython",
        "version": 3
      },
      "file_extension": ".py",
      "mimetype": "text/x-python",
      "name": "python",
      "nbconvert_exporter": "python",
      "pygments_lexer": "ipython3",
      "version": "3.7.3"
    },
    "kernelspec": {
      "name": "python3",
      "display_name": "Python 3"
    },
    "accelerator": "GPU"
  },
  "cells": [
    {
      "cell_type": "code",
      "metadata": {
        "id": "7CF1OIHNV9gH",
        "colab_type": "code",
        "outputId": "145002f1-12b0-4598-e9ea-57599e7d2e3b",
        "colab": {
          "base_uri": "https://localhost:8080/",
          "height": 34
        }
      },
      "source": [
        "from google.colab import drive\n",
        "drive.mount('/content/drive/')"
      ],
      "execution_count": 0,
      "outputs": [
        {
          "output_type": "stream",
          "text": [
            "Drive already mounted at /content/drive/; to attempt to forcibly remount, call drive.mount(\"/content/drive/\", force_remount=True).\n"
          ],
          "name": "stdout"
        }
      ]
    },
    {
      "cell_type": "code",
      "metadata": {
        "id": "LDKOtDXnSIat",
        "colab_type": "code",
        "colab": {}
      },
      "source": [
        "import keras\n",
        "from keras.layers import BatchNormalization, Conv2D, SeparableConv2D, Activation, Dropout, MaxPool2D, Add, Dense\n",
        "from keras.applications import Xception\n",
        "import tensorflow as tf"
      ],
      "execution_count": 0,
      "outputs": []
    },
    {
      "cell_type": "code",
      "metadata": {
        "id": "XrdFHJVWSIa6",
        "colab_type": "code",
        "colab": {}
      },
      "source": [
        "inp = keras.Input(shape=(224, 224, 3))\n",
        "m = (Conv2D(64, (3, 3), padding='same', activation='relu'))(inp)\n",
        "m = (BatchNormalization())(m)\n",
        "m = (Activation('linear'))(m)\n",
        "mod = (Conv2D(128, (1, 1), strides=2))(m)\n",
        "mod = (BatchNormalization())(mod)\n",
        "\n",
        "m = (SeparableConv2D(128, (3, 3), padding='same', activation='relu'))(m)\n",
        "m = (BatchNormalization())(m)\n",
        "m = (Activation('linear'))(m)\n",
        "m = (MaxPool2D((3, 3), 2, padding='same'))(m)\n",
        "m = keras.layers.Add()([m, mod])\n",
        "mod = (Conv2D(256, (1, 1), strides=2))(m)\n",
        "mod = (BatchNormalization())(mod)\n",
        "\n",
        "m = (SeparableConv2D(256, (3, 3), padding='same', activation='relu'))(m)\n",
        "m = (BatchNormalization())(m)\n",
        "m = (Activation('linear'))(m)\n",
        "m = (MaxPool2D((3, 3), 2, padding='same'))(m)\n",
        "m = keras.layers.Add()([m, mod])\n",
        "mod = (Conv2D(784, (1, 1), strides=2))(m)\n",
        "mod = (BatchNormalization())(mod)\n",
        "\n",
        "m = (SeparableConv2D(784, (3, 3), padding='same', activation='relu'))(m)\n",
        "m = (BatchNormalization())(m)\n",
        "m = (Activation('linear'))(m)\n",
        "m = (MaxPool2D((3, 3), 2, padding='same'))(m)\n",
        "m = keras.layers.Add()([m, mod])\n",
        "mod = (Conv2D(784, (1, 1), strides=2))(m)\n",
        "mod = (BatchNormalization())(mod)\n",
        "\n",
        "m = (SeparableConv2D(784, (3, 3), padding='same', activation='relu'))(m)\n",
        "m = (BatchNormalization())(m)\n",
        "m = (Activation('linear'))(m)\n",
        "m = (MaxPool2D((3, 3), 2, padding='same'))(m)\n",
        "m = keras.layers.Add()([m, mod])\n",
        "mod = (Conv2D(1024, (1, 1), strides=2))(m)\n",
        "mod = (BatchNormalization())(mod)\n",
        "\n",
        "m = (SeparableConv2D(1024, (3, 3), padding='same', activation='relu'))(m)\n",
        "m = (BatchNormalization())(m)\n",
        "m = (Activation('linear'))(m)\n",
        "m = (MaxPool2D((3, 3), 2, padding='same'))(m)\n",
        "m = keras.layers.Add()([m, mod])\n",
        "mod = (Conv2D(1024, (1, 1), strides=2))(m)\n",
        "mod = (BatchNormalization())(mod)\n",
        "\n",
        "m = (SeparableConv2D(1024, (3, 3), padding='same', activation='relu'))(m)\n",
        "m = (BatchNormalization())(m)\n",
        "m = (Activation('linear'))(m)\n",
        "m = (MaxPool2D((3, 3), 2, padding='same'))(m)\n",
        "m = keras.layers.Add()([m, mod])\n",
        "mod = (Conv2D(784, (1, 1), strides=2))(m)\n",
        "mod = (BatchNormalization())(mod)\n",
        "\n",
        "m = (SeparableConv2D(784, (3, 3), padding='same', activation='relu'))(m)\n",
        "m = (BatchNormalization())(m)\n",
        "m = (Activation('linear'))(m)\n",
        "m = (MaxPool2D((3, 3), 2, padding='same'))(m)\n",
        "m = keras.layers.Add()([m, mod])\n",
        "mod = (Conv2D(512, (1, 1), strides=2))(m)\n",
        "mod = (BatchNormalization())(mod)\n",
        "\n",
        "m = (SeparableConv2D(512, (3, 3), padding='same', activation='relu'))(m)\n",
        "m = (BatchNormalization())(m)\n",
        "m = (Activation('linear'))(m)\n",
        "m = (MaxPool2D((3, 3), 2, padding='same'))(m)\n",
        "m = keras.layers.Add()([m, mod])\n",
        "mod = (Conv2D(256, (1, 1), strides=2))(m)\n",
        "mod = (BatchNormalization())(mod)\n",
        "\n",
        "m = (SeparableConv2D(256, (3, 3), padding='same', activation='relu'))(m)\n",
        "m = (BatchNormalization())(m)\n",
        "m = (Activation('linear'))(m)\n",
        "m = (MaxPool2D((3, 3), 2, padding='same'))(m)\n",
        "m = keras.layers.Add()([m, mod])\n",
        "\n",
        "m = (SeparableConv2D(128, (3, 3), padding='same', activation='relu'))(m)\n",
        "m = (BatchNormalization())(m)\n",
        "m = (Activation('linear'))(m)\n",
        "m = (SeparableConv2D(128, (3, 3), padding='same', activation='relu'))(m)\n",
        "m = (BatchNormalization())(m)\n",
        "m = (Activation('linear'))(m)\n",
        "m = (Dropout(0.2))(m)\n",
        "m = (keras.layers.GlobalMaxPooling2D())(m)\n",
        "m = (Dense(1, activation='sigmoid'))(m)\n",
        "model = keras.Model(inp, m)"
      ],
      "execution_count": 0,
      "outputs": []
    },
    {
      "cell_type": "code",
      "metadata": {
        "id": "EO2JdTeNSIa-",
        "colab_type": "code",
        "colab": {}
      },
      "source": [
        "import os\n",
        "import numpy as np\n",
        "import matplotlib.pyplot as plt\n",
        "from PIL import Image \n",
        "import pandas as pd\n",
        "\n",
        "\n",
        "from keras.preprocessing.image import ImageDataGenerator"
      ],
      "execution_count": 0,
      "outputs": []
    },
    {
      "cell_type": "code",
      "metadata": {
        "id": "d_NZf90CSIbk",
        "colab_type": "code",
        "colab": {}
      },
      "source": [
        "data = pd.read_csv(\"/content/drive/My Drive/AugmentedDIC/Glaucoma.csv\")\n",
        "glaucoma = np.array(data)"
      ],
      "execution_count": 0,
      "outputs": []
    },
    {
      "cell_type": "code",
      "metadata": {
        "id": "0k-e_NXhWO7d",
        "colab_type": "code",
        "colab": {}
      },
      "source": [
        "x = []\n",
        "y = []\n",
        "\n",
        "choicelist = list(range(0, len(glaucoma)))\n",
        "\n",
        "for i in range(len(glaucoma)):\n",
        "  ind = np.random.choice(choicelist)\n",
        "  filename = str(glaucoma[ind][0])\n",
        "\n",
        "  if \"D\" in filename:\n",
        "    path = \"/content/drive/My Drive/AugmentedDIC/Dhristi\"\n",
        "\n",
        "    if \"G\" in filename:\n",
        "      filepath = os.path.join(path, \"Glaucoma\")\n",
        "    else:\n",
        "      filepath = os.path.join(path, \"Normal\")\n",
        "\n",
        "  else:\n",
        "    path = \"/content/drive/My Drive/AugmentedDIC/RIM-ONE\"\n",
        "\n",
        "    if \"G\" in filename:\n",
        "      filepath = os.path.join(path, \"Glaucoma\")\n",
        "    else:\n",
        "      filepath = os.path.join(path, \"Normal\")\n",
        "    \n",
        "  img = np.array(Image.open(os.path.join(filepath, filename)).resize((224, 224), Image.ANTIALIAS)).reshape(224, 224, 3)\n",
        "  img = img/255.0\n",
        "  \n",
        "  x.append(img)\n",
        "  y.append(glaucoma[ind][1])"
      ],
      "execution_count": 0,
      "outputs": []
    },
    {
      "cell_type": "code",
      "metadata": {
        "id": "dMoJrZBpWRGX",
        "colab_type": "code",
        "colab": {}
      },
      "source": [
        "x = np.array(x)\n",
        "y = np.array(y)"
      ],
      "execution_count": 0,
      "outputs": []
    },
    {
      "cell_type": "code",
      "metadata": {
        "id": "iOzScUpGWT1J",
        "colab_type": "code",
        "colab": {}
      },
      "source": [
        "from sklearn.model_selection import train_test_split\n",
        "\n",
        "x_tr, x_te, y_tr, y_te = train_test_split(x, y, test_size=0.2, random_state=1)\n",
        "\n",
        "x_t, x_v, y_t, y_v = train_test_split(x_tr, y_tr, test_size=0.2, random_state=1)"
      ],
      "execution_count": 0,
      "outputs": []
    },
    {
      "cell_type": "code",
      "metadata": {
        "id": "dxQAcDXCx1eJ",
        "colab_type": "code",
        "colab": {}
      },
      "source": [
        "from keras.optimizers import Adadelta\n",
        "from keras.utils import to_categorical"
      ],
      "execution_count": 0,
      "outputs": []
    },
    {
      "cell_type": "code",
      "metadata": {
        "id": "W1CtttprWXaI",
        "colab_type": "code",
        "colab": {}
      },
      "source": [
        "model.compile(loss= 'binary_crossentropy', optimizer=Adadelta(lr=0.01), metrics=['accuracy'])"
      ],
      "execution_count": 0,
      "outputs": []
    },
    {
      "cell_type": "code",
      "metadata": {
        "id": "ERk9m7BOWaKj",
        "colab_type": "code",
        "colab": {}
      },
      "source": [
        "imgen = ImageDataGenerator(vertical_flip=True, horizontal_flip=True, rotation_range=20)\n",
        "imgen.fit(x_t)"
      ],
      "execution_count": 0,
      "outputs": []
    },
    {
      "cell_type": "code",
      "metadata": {
        "id": "0oeJhEA7Wca7",
        "colab_type": "code",
        "outputId": "7528f9b8-6773-411c-e6b3-fa15aef4ee18",
        "colab": {
          "base_uri": "https://localhost:8080/",
          "height": 1207
        }
      },
      "source": [
        "history = model.fit_generator(imgen.flow(x_t, y_t, batch_size=16), epochs=35, steps_per_epoch=len(x_t)//16, validation_data=(x_v, y_v), validation_steps=len(x_v)//16, shuffle=True)"
      ],
      "execution_count": 0,
      "outputs": [
        {
          "output_type": "stream",
          "text": [
            "Epoch 1/35\n",
            "32/32 [==============================] - 26s 801ms/step - loss: 0.6644 - acc: 0.5859 - val_loss: 0.5355 - val_acc: 0.8062\n",
            "Epoch 2/35\n",
            "32/32 [==============================] - 15s 483ms/step - loss: 0.5583 - acc: 0.7455 - val_loss: 0.4903 - val_acc: 0.8450\n",
            "Epoch 3/35\n",
            "32/32 [==============================] - 16s 487ms/step - loss: 0.5061 - acc: 0.7889 - val_loss: 0.4698 - val_acc: 0.8372\n",
            "Epoch 4/35\n",
            "32/32 [==============================] - 16s 488ms/step - loss: 0.4666 - acc: 0.8139 - val_loss: 0.4525 - val_acc: 0.8217\n",
            "Epoch 5/35\n",
            "32/32 [==============================] - 15s 481ms/step - loss: 0.4655 - acc: 0.7920 - val_loss: 0.4243 - val_acc: 0.8450\n",
            "Epoch 6/35\n",
            "32/32 [==============================] - 15s 478ms/step - loss: 0.4321 - acc: 0.8374 - val_loss: 0.3987 - val_acc: 0.8760\n",
            "Epoch 7/35\n",
            "32/32 [==============================] - 15s 479ms/step - loss: 0.3960 - acc: 0.8593 - val_loss: 0.3727 - val_acc: 0.9070\n",
            "Epoch 8/35\n",
            "32/32 [==============================] - 15s 481ms/step - loss: 0.4188 - acc: 0.8139 - val_loss: 0.3605 - val_acc: 0.9147\n",
            "Epoch 9/35\n",
            "32/32 [==============================] - 16s 485ms/step - loss: 0.3934 - acc: 0.8417 - val_loss: 0.3556 - val_acc: 0.9225\n",
            "Epoch 10/35\n",
            "32/32 [==============================] - 15s 483ms/step - loss: 0.3484 - acc: 0.8866 - val_loss: 0.3557 - val_acc: 0.9225\n",
            "Epoch 11/35\n",
            "32/32 [==============================] - 15s 482ms/step - loss: 0.3404 - acc: 0.8726 - val_loss: 0.3431 - val_acc: 0.9070\n",
            "Epoch 12/35\n",
            "32/32 [==============================] - 15s 482ms/step - loss: 0.3343 - acc: 0.8925 - val_loss: 0.3290 - val_acc: 0.9070\n",
            "Epoch 13/35\n",
            "32/32 [==============================] - 15s 481ms/step - loss: 0.3242 - acc: 0.8921 - val_loss: 0.3190 - val_acc: 0.8992\n",
            "Epoch 14/35\n",
            "32/32 [==============================] - 15s 480ms/step - loss: 0.3117 - acc: 0.8647 - val_loss: 0.2989 - val_acc: 0.9070\n",
            "Epoch 15/35\n",
            "32/32 [==============================] - 15s 482ms/step - loss: 0.3354 - acc: 0.8729 - val_loss: 0.2868 - val_acc: 0.9225\n",
            "Epoch 16/35\n",
            "32/32 [==============================] - 15s 482ms/step - loss: 0.2845 - acc: 0.9140 - val_loss: 0.2833 - val_acc: 0.9302\n",
            "Epoch 17/35\n",
            "32/32 [==============================] - 15s 482ms/step - loss: 0.2655 - acc: 0.9195 - val_loss: 0.2702 - val_acc: 0.9302\n",
            "Epoch 18/35\n",
            "32/32 [==============================] - 15s 482ms/step - loss: 0.2843 - acc: 0.8917 - val_loss: 0.2697 - val_acc: 0.9147\n",
            "Epoch 19/35\n",
            "32/32 [==============================] - 15s 483ms/step - loss: 0.2570 - acc: 0.9335 - val_loss: 0.2623 - val_acc: 0.9457\n",
            "Epoch 20/35\n",
            "32/32 [==============================] - 15s 482ms/step - loss: 0.2807 - acc: 0.9058 - val_loss: 0.2550 - val_acc: 0.9457\n",
            "Epoch 21/35\n",
            "32/32 [==============================] - 15s 484ms/step - loss: 0.2628 - acc: 0.9074 - val_loss: 0.2559 - val_acc: 0.9302\n",
            "Epoch 22/35\n",
            "32/32 [==============================] - 15s 483ms/step - loss: 0.2492 - acc: 0.9195 - val_loss: 0.2455 - val_acc: 0.9457\n",
            "Epoch 23/35\n",
            "32/32 [==============================] - 15s 482ms/step - loss: 0.2490 - acc: 0.9199 - val_loss: 0.2286 - val_acc: 0.9380\n",
            "Epoch 24/35\n",
            "32/32 [==============================] - 15s 482ms/step - loss: 0.2360 - acc: 0.9257 - val_loss: 0.2154 - val_acc: 0.9535\n",
            "Epoch 25/35\n",
            "32/32 [==============================] - 15s 482ms/step - loss: 0.2297 - acc: 0.9292 - val_loss: 0.2233 - val_acc: 0.9457\n",
            "Epoch 26/35\n",
            "32/32 [==============================] - 15s 483ms/step - loss: 0.2254 - acc: 0.9394 - val_loss: 0.2180 - val_acc: 0.9457\n",
            "Epoch 27/35\n",
            "32/32 [==============================] - 15s 482ms/step - loss: 0.2613 - acc: 0.9156 - val_loss: 0.2091 - val_acc: 0.9612\n",
            "Epoch 28/35\n",
            "32/32 [==============================] - 15s 483ms/step - loss: 0.2119 - acc: 0.9316 - val_loss: 0.2162 - val_acc: 0.9457\n",
            "Epoch 29/35\n",
            "32/32 [==============================] - 15s 483ms/step - loss: 0.2133 - acc: 0.9371 - val_loss: 0.2035 - val_acc: 0.9535\n",
            "Epoch 30/35\n",
            "32/32 [==============================] - 15s 482ms/step - loss: 0.2248 - acc: 0.9292 - val_loss: 0.2303 - val_acc: 0.9457\n",
            "Epoch 31/35\n",
            "32/32 [==============================] - 15s 483ms/step - loss: 0.2167 - acc: 0.9390 - val_loss: 0.2070 - val_acc: 0.9612\n",
            "Epoch 32/35\n",
            "32/32 [==============================] - 15s 482ms/step - loss: 0.2372 - acc: 0.9351 - val_loss: 0.1995 - val_acc: 0.9380\n",
            "Epoch 33/35\n",
            "32/32 [==============================] - 16s 485ms/step - loss: 0.1997 - acc: 0.9504 - val_loss: 0.1984 - val_acc: 0.9535\n",
            "Epoch 34/35\n",
            "32/32 [==============================] - 16s 493ms/step - loss: 0.1701 - acc: 0.9629 - val_loss: 0.1904 - val_acc: 0.9535\n",
            "Epoch 35/35\n",
            "32/32 [==============================] - 15s 482ms/step - loss: 0.1848 - acc: 0.9468 - val_loss: 0.1861 - val_acc: 0.9612\n"
          ],
          "name": "stdout"
        }
      ]
    },
    {
      "cell_type": "code",
      "metadata": {
        "id": "T_uvkkr88KFt",
        "colab_type": "code",
        "outputId": "88ff2474-777a-4f2d-aa30-f1107f067e2e",
        "colab": {
          "base_uri": "https://localhost:8080/",
          "height": 573
        }
      },
      "source": [
        "plt.plot(history.history['acc'])\n",
        "plt.plot(history.history['val_acc'])\n",
        "plt.title(\"Model Accuracy\")\n",
        "plt.xlabel('Epoch')\n",
        "plt.ylabel('Accuracy')\n",
        "plt.legend(['Validation', 'Train'], loc='lower right')\n",
        "plt.show()\n",
        "\n",
        "plt.plot(history.history['loss'])\n",
        "plt.plot(history.history['val_loss'])\n",
        "plt.title(\"Model Loss\")\n",
        "plt.xlabel('Epoch')\n",
        "plt.ylabel('Loss')\n",
        "plt.legend(['Validation', 'Train'], loc='lower right')\n",
        "plt.show()\n"
      ],
      "execution_count": 0,
      "outputs": [
        {
          "output_type": "display_data",
          "data": {
            "image/png": "[encoded data removed]",
            "text/plain": [
              "<Figure size 432x288 with 1 Axes>"
            ]
          },
          "metadata": {
            "tags": []
          }
        },
        {
          "output_type": "display_data",
          "data": {
            "image/png": "[encoded data removed]",
            "text/plain": [
              "<Figure size 432x288 with 1 Axes>"
            ]
          },
          "metadata": {
            "tags": []
          }
        }
      ]
    },
    {
      "cell_type": "code",
      "metadata": {
        "id": "1YMz64c0ZnhC",
        "colab_type": "code",
        "outputId": "3862cd3c-99e7-4596-81b4-8d5463ec72b8",
        "colab": {
          "base_uri": "https://localhost:8080/",
          "height": 34
        }
      },
      "source": [
        "loss, acc = model.evaluate(x_te, y_te)"
      ],
      "execution_count": 0,
      "outputs": [
        {
          "output_type": "stream",
          "text": [
            "161/161 [==============================] - 1s 7ms/step\n"
          ],
          "name": "stdout"
        }
      ]
    },
    {
      "cell_type": "code",
      "metadata": {
        "id": "YM_nK09G3eVE",
        "colab_type": "code",
        "outputId": "e574a836-1f55-4f71-bfda-47545af9506a",
        "colab": {
          "base_uri": "https://localhost:8080/",
          "height": 34
        }
      },
      "source": [
        "print(loss, acc)"
      ],
      "execution_count": 0,
      "outputs": [
        {
          "output_type": "stream",
          "text": [
            "0.21730496986589817 0.937888198757764\n"
          ],
          "name": "stdout"
        }
      ]
    },
    {
      "cell_type": "code",
      "metadata": {
        "id": "nlPER8Zw3geu",
        "colab_type": "code",
        "colab": {}
      },
      "source": [
        "# model.save('/content/drive/My Drive/Custom_Arch(97, 1).h5')"
      ],
      "execution_count": 0,
      "outputs": []
    },
    {
      "cell_type": "code",
      "metadata": {
        "id": "krh2imMQxIr6",
        "colab_type": "code",
        "outputId": "c1cc0b03-87ea-495f-c00a-928d2bcf3691",
        "colab": {
          "base_uri": "https://localhost:8080/",
          "height": 337
        }
      },
      "source": [
        "pred= np.round(model.predict(x_te, verbose=1, batch_size=16))\n",
        "from sklearn.metrics import confusion_matrix\n",
        "conf_matrix= confusion_matrix(y_te, pred)\n",
        "import seaborn as sb\n",
        "print (conf_matrix)\n",
        "sb.heatmap(conf_matrix, annot=True, fmt='.5g')"
      ],
      "execution_count": 0,
      "outputs": [
        {
          "output_type": "stream",
          "text": [
            "161/161 [==============================] - 3s 16ms/step\n",
            "[[79  5]\n",
            " [ 5 72]]\n"
          ],
          "name": "stdout"
        },
        {
          "output_type": "execute_result",
          "data": {
            "text/plain": [
              "<matplotlib.axes._subplots.AxesSubplot at 0x7f2fc583c128>"
            ]
          },
          "metadata": {
            "tags": []
          },
          "execution_count": 60
        },
        {
          "output_type": "display_data",
          "data": {
            "image/png": "[encoded data removed]",
            "text/plain": [
              "<Figure size 432x288 with 2 Axes>"
            ]
          },
          "metadata": {
            "tags": []
          }
        }
      ]
    },
    {
      "cell_type": "code",
      "metadata": {
        "id": "CNeMoDgHx3y_",
        "colab_type": "code",
        "colab": {}
      },
      "source": [
        ""
      ],
      "execution_count": 0,
      "outputs": []
    }
  ]
}